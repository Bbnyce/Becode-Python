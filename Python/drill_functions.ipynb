{
 "cells": [
  {
   "cell_type": "markdown",
   "metadata": {},
   "source": [
    "# Drill functions"
   ]
  },
  {
   "cell_type": "markdown",
   "metadata": {},
   "source": [
    "### 1. Say Hello\n",
    "Write a function called `hello` that returns a string of characters. This function will take as argument a variable `name`. This function will return a string `\"Hello name\"`."
   ]
  },
  {
   "cell_type": "markdown",
   "metadata": {},
   "source": [
    "Example :\n",
    "<pre><code>hello('Jean') => 'Hello Jean'</code></pre>\n",
    "<pre><code>hello() => 'Hello Anonymous' </code></pre>"
   ]
  },
  {
   "cell_type": "code",
   "execution_count": null,
   "metadata": {},
   "outputs": [],
   "source": [
    "def hello():\n",
    "    # Your code\n",
    "    return \"\""
   ]
  },
  {
   "cell_type": "markdown",
   "metadata": {},
   "source": [
    "### 2. Count students\n",
    "Create a function `sum_of_students` that calculates and counts the number of students in a list and returns the total. The function will have to return an integer."
   ]
  },
  {
   "cell_type": "markdown",
   "metadata": {},
   "source": [
    "Example : \n",
    "```\n",
    "sum_of_students([[\"Jean\", \"Alice\", \"Edwige\", \"Peter\", \"James\"],\n",
    "               [\"Redouane\", \"Justine\", \"Adrien\", \"Nicolas\", \"Pierre\"]]) => 10\n",
    "```"
   ]
  },
  {
   "cell_type": "code",
   "execution_count": null,
   "metadata": {},
   "outputs": [],
   "source": [
    "def sum_of_students(students):\n",
    "    # Your code\n",
    "    return 0"
   ]
  },
  {
   "cell_type": "markdown",
   "metadata": {},
   "source": [
    "### 3.  Is divisible ?\n",
    "Create a function `is_divisible(n, x, y)` that checks if a number `n` is divisible by two numbers `x` AND `y`. All inputs are positive, non-zero digits."
   ]
  },
  {
   "cell_type": "markdown",
   "metadata": {},
   "source": [
    "Example:\n",
    "```\n",
    "is_divisible(3, 1, 3)--> True because 3 is divisible by 1 and 3\n",
    "is_divisible(12, 2, 6)--> True because 12 is divisible by 2 and 6\n",
    "is_divisible(100, 5, 3)--> False because 100 is not divisible by 3\n",
    "is_divisible(12, 7, 5)--> False because 12 is neither divisible by 7 nor 5\n",
    "```"
   ]
  },
  {
   "cell_type": "code",
   "execution_count": null,
   "metadata": {},
   "outputs": [],
   "source": [
    "def is_divisible(n, x, y):\n",
    "    # Your code\n",
    "    return bool"
   ]
  },
  {
   "cell_type": "markdown",
   "metadata": {},
   "source": [
    "### 4. Abbreviate a two-word name\n",
    "Write a function to convert a name into initials. This functions strictly takes two words with one space in between them."
   ]
  },
  {
   "cell_type": "markdown",
   "metadata": {},
   "source": [
    "Example : \n",
    "```\n",
    "Sam Harris => S.H\n",
    "\n",
    "Patrick Feeney => P.F\n",
    "```"
   ]
  },
  {
   "cell_type": "code",
   "execution_count": null,
   "metadata": {},
   "outputs": [],
   "source": [
    "def abbreviate_name(name):\n",
    "    # Your code\n",
    "    return \"\""
   ]
  },
  {
   "cell_type": "markdown",
   "metadata": {},
   "source": [
    "### 5. Sum of positive \n",
    "You get an array of numbers, return the sum of all of the positives ones."
   ]
  },
  {
   "cell_type": "markdown",
   "metadata": {},
   "source": [
    "Example :  \n",
    "` [1,-4,7,12] => 1 + 7 + 12 = 20`"
   ]
  },
  {
   "cell_type": "code",
   "execution_count": null,
   "metadata": {},
   "outputs": [],
   "source": [
    "def positive_sum(numbers):\n",
    "    # Your code\n",
    "    return 0"
   ]
  },
  {
   "cell_type": "markdown",
   "metadata": {},
   "source": [
    "### 6. Sum mixed array \n",
    "\n",
    "Given an array of integers as strings and numbers, return the sum of the array values as if all were numbers.\n",
    "\n",
    "Return your answer as a number.\n"
   ]
  },
  {
   "cell_type": "markdown",
   "metadata": {},
   "source": [
    "Example : \n",
    "```\n",
    "mixed_sum(['5', '0', 9, 3, 2, 1, '9', 6, 7]) => 42\n",
    "```"
   ]
  },
  {
   "cell_type": "code",
   "execution_count": null,
   "metadata": {},
   "outputs": [],
   "source": [
    "def mixed_sum(array):\n",
    "    # Your code\n",
    "    return \"\""
   ]
  },
  {
   "cell_type": "markdown",
   "metadata": {},
   "source": [
    "### 7. Return the day\n",
    "Complete the function which returns the weekday according to the input number:\n",
    "\n",
    "    1 returns \"Sunday\"\n",
    "    2 returns \"Monday\"\n",
    "    3 returns \"Tuesday\"\n",
    "    4 returns \"Wednesday\"\n",
    "    5 returns \"Thursday\"\n",
    "    6 returns \"Friday\"\n",
    "    7 returns \"Saturday\"\n",
    "    Otherwise returns \"Wrong, please enter a number between 1 and 7\"\n",
    "\n"
   ]
  },
  {
   "cell_type": "code",
   "execution_count": null,
   "metadata": {},
   "outputs": [],
   "source": [
    "def what_day(number):\n",
    "    # Your code\n",
    "    return 0"
   ]
  },
  {
   "cell_type": "markdown",
   "metadata": {},
   "source": [
    "### 8. Summation\n",
    "Write a program that finds the summation of every number from 1 to `number`. The number will always be a positive integer greater than 0.\n"
   ]
  },
  {
   "cell_type": "markdown",
   "metadata": {},
   "source": [
    "Example : \n",
    "```\n",
    "    summation(2) -> 3\n",
    "    1 + 2\n",
    "\n",
    "    summation(8) -> 36\n",
    "    1 + 2 + 3 + 4 + 5 + 6 + 7 + 8\n",
    "```"
   ]
  },
  {
   "cell_type": "code",
   "execution_count": null,
   "metadata": {},
   "outputs": [],
   "source": [
    "def summation(number):\n",
    "    return 0  # Your code"
   ]
  },
  {
   "cell_type": "code",
   "execution_count": null,
   "metadata": {},
   "outputs": [],
   "source": []
  },
  {
   "cell_type": "markdown",
   "metadata": {},
   "source": [
    "### 9. If you can't sleep, just count sheep!!"
   ]
  },
  {
   "cell_type": "markdown",
   "metadata": {},
   "source": [
    "Given a non-negative integer, 3 for example, return a string saying: \"1 sheep...2 sheep...3 sheep...\". Input will always be valid, i.e. no negative integers."
   ]
  },
  {
   "cell_type": "code",
   "execution_count": null,
   "metadata": {},
   "outputs": [],
   "source": [
    "def count_sheep(number):\n",
    "    return \"\"  # Your code"
   ]
  },
  {
   "cell_type": "markdown",
   "metadata": {},
   "source": [
    "### 10. Student's final grade \n",
    "Create a function `final_grade`, which calculates the final grade of a student depending on two parameters: a grade for the `exam_grade` and a number of completed projects.\n",
    "\n",
    "This function should take two arguments: `exam_grade`, grade of the exam (from 0 to 100), and `completed_projects`, number of completed projects (0 and above).\n",
    "\n",
    "This function should return a number, i.e. the final grade. There are four types of final grades:\n",
    "\n",
    "    100, if a grade for the exam is more than 90 or if the number of completed projects more than 10.\n",
    "    90, if a grade for the exam is more than 75 and if the number of completed projects is minimum 5.\n",
    "    75, if a grade for the exam is more than 50 and if the number of completed projects is minimum 2.\n",
    "    0, in other cases\n"
   ]
  },
  {
   "cell_type": "code",
   "execution_count": null,
   "metadata": {},
   "outputs": [],
   "source": [
    "def final_grade(exam_grade, completed_projects):\n",
    "    return 0  # Your code"
   ]
  },
  {
   "cell_type": "markdown",
   "metadata": {},
   "source": [
    "## Testing"
   ]
  },
  {
   "cell_type": "markdown",
   "metadata": {},
   "source": [
    "Do not touch the code, just run it"
   ]
  },
  {
   "cell_type": "code",
   "execution_count": null,
   "metadata": {},
   "outputs": [],
   "source": [
    "import unittest\n",
    "\n",
    "\n",
    "class TestNotebook(unittest.TestCase):\n",
    "    def test_hello(self):\n",
    "        self.assertEqual(hello(), \"Hello Anonymous\")\n",
    "        self.assertEqual(hello(\"Jean\"), \"Hello Jean\")\n",
    "\n",
    "    def test_sum_of_students(self):\n",
    "        self.assertEqual(\n",
    "            sum_of_students(\n",
    "                [\n",
    "                    [\"Jean\", \"Alice\", \"Edwige\", \"Peter\", \"James\"],\n",
    "                    [\"Redouane\", \"Justine\", \"Adrien\", \"Nicolas\", \"Pierre\"],\n",
    "                ]\n",
    "            ),\n",
    "            10,\n",
    "        )\n",
    "\n",
    "    def test_is_divisible(self):\n",
    "        self.assertEqual(is_divisible(3, 3, 4), False)\n",
    "        self.assertEqual(is_divisible(12, 3, 4), True)\n",
    "        self.assertEqual(is_divisible(8, 3, 4), False)\n",
    "        self.assertEqual(is_divisible(48, 3, 4), True)\n",
    "\n",
    "    def test_abbreviate_name(self):\n",
    "        self.assertEqual(abbreviate_name(\"Sam Harris\"), \"S.H\")\n",
    "        self.assertEqual(abbreviate_name(\"Patrick Feenan\"), \"P.F\")\n",
    "        self.assertEqual(abbreviate_name(\"Evan Cole\"), \"E.C\")\n",
    "        self.assertEqual(abbreviate_name(\"P Favuzzi\"), \"P.F\")\n",
    "        self.assertEqual(abbreviate_name(\"David Mendieta\"), \"D.M\")\n",
    "\n",
    "    def test_positive_sum(self):\n",
    "        self.assertEqual(positive_sum([1, 2, 3, 4, 5]), 15)\n",
    "        self.assertEqual(positive_sum([1, -2, 3, 4, 5]), 13)\n",
    "        self.assertEqual(positive_sum([-1, 2, 3, 4, -5]), 9)\n",
    "        self.assertEqual(positive_sum([]), 0)\n",
    "        self.assertEqual(positive_sum([-1, -2, -3, -4, -5]), 0)\n",
    "\n",
    "    def test_sum_mixed_array(self):\n",
    "        self.assertEqual(mixed_sum([9, 3, \"7\", \"3\"]), 22)\n",
    "        self.assertEqual(mixed_sum([\"5\", \"0\", 9, 3, 2, 1, \"9\", 6, 7]), 42)\n",
    "        self.assertEqual(mixed_sum([\"3\", 6, 6, 0, \"5\", 8, 5, \"6\", 2, \"0\"]), 41)\n",
    "        self.assertEqual(mixed_sum([\"1\", \"5\", \"8\", 8, 9, 9, 2, \"3\"]), 45)\n",
    "        self.assertEqual(mixed_sum([8, 0, 0, 8, 5, 7, 2, 3, 7, 8, 6, 7]), 61)\n",
    "\n",
    "    def test_return_day(self):\n",
    "        self.assertEqual(what_day(1), \"Sunday\")\n",
    "        self.assertEqual(what_day(2), \"Monday\")\n",
    "        self.assertEqual(what_day(3), \"Tuesday\")\n",
    "        self.assertEqual(what_day(8), \"Wrong, please enter a number between 1 and 7\")\n",
    "        self.assertEqual(what_day(20), \"Wrong, please enter a number between 1 and 7\")\n",
    "\n",
    "    def test_summation(self):\n",
    "        self.assertEqual(summation(1), 1)\n",
    "        self.assertEqual(summation(8), 36)\n",
    "\n",
    "    def test_count_sheep(self):\n",
    "        self.assertEqual(count_sheep(1), \"1 sheep...\")\n",
    "        self.assertEqual(count_sheep(2), \"1 sheep...2 sheep...\")\n",
    "        self.assertEqual(count_sheep(3), \"1 sheep...2 sheep...3 sheep...\")\n",
    "\n",
    "    def test_final_grade(self):\n",
    "        self.assertEqual(final_grade(100, 12), 100)\n",
    "        self.assertEqual(final_grade(85, 5), 90)\n",
    "\n",
    "\n",
    "unittest.main(argv=[\"\"], verbosity=2, exit=False)"
   ]
  }
 ],
 "metadata": {
  "kernelspec": {
   "display_name": "Python 3",
   "language": "python",
   "name": "python3"
  },
  "language_info": {
   "codemirror_mode": {
    "name": "ipython"
   },
   "file_extension": ".py",
   "mimetype": "text/x-python",
   "name": "python",
   "nbconvert_exporter": "python"
  }
 },
 "nbformat": 4,
 "nbformat_minor": 2
}
