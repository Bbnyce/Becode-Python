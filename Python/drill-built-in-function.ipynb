{
 "cells": [
  {
   "cell_type": "markdown",
   "metadata": {},
   "source": [
    "# Drill : built-in functions\n",
    "Use the native python functions to do these exercises."
   ]
  },
  {
   "cell_type": "markdown",
   "metadata": {},
   "source": [
    "### 1. Create a variable `count_alpha` that contains the number of characters contained in the string `\"Hello world!\"`."
   ]
  },
  {
   "cell_type": "code",
   "execution_count": null,
   "metadata": {},
   "outputs": [],
   "source": []
  },
  {
   "cell_type": "markdown",
   "metadata": {},
   "source": [
    "### 2. Create a variable `count_float` and cast the variable `count_alpha` to float."
   ]
  },
  {
   "cell_type": "code",
   "execution_count": null,
   "metadata": {},
   "outputs": [],
   "source": []
  },
  {
   "cell_type": "markdown",
   "metadata": {},
   "source": [
    "### 3. Round the variable `pi` value to 2 decimal places (0.01) and save it in a variable `round_pi`. You can get `pi` from the `math` library."
   ]
  },
  {
   "cell_type": "code",
   "execution_count": null,
   "metadata": {},
   "outputs": [],
   "source": []
  },
  {
   "cell_type": "markdown",
   "metadata": {},
   "source": [
    "### 4. Create a variable `reversed_text` which contains the character string `\"Hello world!\"` backwards.\n",
    "The result must be a `list` object."
   ]
  },
  {
   "cell_type": "code",
   "execution_count": null,
   "metadata": {},
   "outputs": [],
   "source": []
  },
  {
   "cell_type": "markdown",
   "metadata": {},
   "source": [
    "### 5. Create a variable `age`  and ask the user to enter his age. Then display it and display its type. "
   ]
  },
  {
   "cell_type": "code",
   "execution_count": null,
   "metadata": {},
   "outputs": [],
   "source": []
  },
  {
   "cell_type": "markdown",
   "metadata": {},
   "source": [
    "### 6. Create a variable `sorted_num` that contains the sorted `num` list.\n"
   ]
  },
  {
   "cell_type": "code",
   "execution_count": null,
   "metadata": {},
   "outputs": [],
   "source": [
    "num = [2, 8, 1, 4, 6, 3, 7]"
   ]
  },
  {
   "cell_type": "markdown",
   "metadata": {},
   "source": [
    "### 7. Create a variable `sum_of_list` which contains the sum of all the elements in the list `num`."
   ]
  },
  {
   "cell_type": "code",
   "execution_count": null,
   "metadata": {},
   "outputs": [],
   "source": [
    "num = [2, 8, 1, 4, 6, 3, 7]"
   ]
  },
  {
   "cell_type": "markdown",
   "metadata": {},
   "source": [
    "### 8. Create a variable `min_value` that contains a minimum value of list `num`."
   ]
  },
  {
   "cell_type": "code",
   "execution_count": null,
   "metadata": {},
   "outputs": [],
   "source": [
    "num = [2, 8, 1, 4, 6, 3, 7]"
   ]
  },
  {
   "cell_type": "markdown",
   "metadata": {},
   "source": [
    "### 9. Create a variable `max_value` that contains the maximum value of list `num`."
   ]
  },
  {
   "cell_type": "code",
   "execution_count": null,
   "metadata": {},
   "outputs": [],
   "source": [
    "num = [2, 8, 1, 4, 6, 3, 7]"
   ]
  },
  {
   "cell_type": "markdown",
   "metadata": {},
   "source": [
    "### 10. Find a function that will interpret the string of the variable `calc`\n",
    "Save the result in a variable named `string_interpret`."
   ]
  },
  {
   "cell_type": "code",
   "execution_count": null,
   "metadata": {},
   "outputs": [],
   "source": [
    "calc = \"1 + 2\""
   ]
  },
  {
   "cell_type": "markdown",
   "metadata": {},
   "source": [
    "## Testing\n",
    "\n",
    "The following piece of code is to test that you have correctly done the above exercises.\n",
    "If it fails, it means that some of your code is not correct. Read the error messages of each test carefully.\n",
    "\n",
    "If the syntax of the code below is confusing (`class`,`self`, etc...), don't worry, you will see it soon. The only thing you should know is that the method `assertEqual` checks if the right argument matches the left one, e.g. for `assertEqual(count_alpha, 12)` it checks that `count_alpha` is equal to 12.\n",
    "\n",
    "Please don't modify the code, you just have to execute it."
   ]
  },
  {
   "cell_type": "code",
   "execution_count": null,
   "metadata": {},
   "outputs": [],
   "source": [
    "import unittest\n",
    "\n",
    "\n",
    "class TestNotebook(unittest.TestCase):\n",
    "    def test_count_alpha(self):\n",
    "        self.assertEqual(count_alpha, 12)\n",
    "\n",
    "    def test_count_float(self):\n",
    "        self.assertEqual(type(count_float), float)\n",
    "\n",
    "    def test_pi(self):\n",
    "        self.assertEqual(3.14, round_pi)\n",
    "\n",
    "    def test_reversed(self):\n",
    "        self.assertEqual(\n",
    "            reversed_text, [\"!\", \"d\", \"l\", \"r\", \"o\", \"w\", \" \", \"o\", \"l\", \"l\", \"e\", \"H\"]\n",
    "        )\n",
    "\n",
    "    def test_age(self):\n",
    "        self.assertEqual(type(age), str)\n",
    "\n",
    "    def test_sorted(self):\n",
    "        self.assertEqual(sorted_num, [1, 2, 3, 4, 6, 7, 8])\n",
    "\n",
    "    def test_sum(self):\n",
    "        self.assertEqual(sum_of_list, 31)\n",
    "\n",
    "    def test_min(self):\n",
    "        self.assertEqual(min_value, 1)\n",
    "\n",
    "    def test_max(self):\n",
    "        self.assertEqual(max_value, 8)\n",
    "\n",
    "    def test_interpret(self):\n",
    "        self.assertEqual(string_interpret, 3)\n",
    "\n",
    "\n",
    "unittest.main(argv=[\"\"], verbosity=2, exit=False)"
   ]
  },
  {
   "cell_type": "markdown",
   "metadata": {},
   "source": [
    "## [Next one](../6.tuples-dictionaries/tuples-and-dictionaries.ipynb)"
   ]
  }
 ],
 "metadata": {
  "kernelspec": {
   "display_name": "Python 3",
   "language": "python",
   "name": "python3"
  },
  "language_info": {
   "codemirror_mode": {
    "name": "ipython"
   },
   "file_extension": ".py",
   "mimetype": "text/x-python",
   "name": "python",
   "nbconvert_exporter": "python"
  }
 },
 "nbformat": 4,
 "nbformat_minor": 2
}
